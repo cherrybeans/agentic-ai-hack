{
 "cells": [
  {
   "cell_type": "markdown",
   "metadata": {},
   "source": [
    "# Policy Checker with Azure AI Search\n",
    "\n",
    "This notebook demonstrates how to use agent operations with the Azure AI Search tool from the Azure Agents service using a synchronous client."
   ]
  },
  {
   "cell_type": "markdown",
   "metadata": {},
   "source": [
    "## Setup and Imports"
   ]
  },
  {
   "cell_type": "code",
   "execution_count": 1,
   "metadata": {},
   "outputs": [
    {
     "name": "stdout",
     "output_type": "stream",
     "text": [
      "✅ Libraries imported and environment variables loaded\n"
     ]
    }
   ],
   "source": [
    "# Import necessary libraries and modules\n",
    "import os\n",
    "from dotenv import load_dotenv\n",
    "from azure.identity import DefaultAzureCredential\n",
    "from azure.ai.projects import AIProjectClient\n",
    "from azure.ai.agents.models import AzureAISearchQueryType, AzureAISearchTool, ListSortOrder, MessageRole\n",
    "\n",
    "# Load environment variables from .env file\n",
    "load_dotenv(override=True)  # This forces a reload of the .env file\n",
    "\n",
    "print(\"✅ Libraries imported and environment variables loaded\")"
   ]
  },
  {
   "cell_type": "markdown",
   "metadata": {},
   "source": [
    "## Configuration"
   ]
  },
  {
   "cell_type": "code",
   "execution_count": 2,
   "metadata": {},
   "outputs": [
    {
     "ename": "ValueError",
     "evalue": "Please provide the 1DP endpoint.",
     "output_type": "error",
     "traceback": [
      "\u001b[31m---------------------------------------------------------------------------\u001b[39m",
      "\u001b[31mValueError\u001b[39m                                Traceback (most recent call last)",
      "\u001b[36mCell\u001b[39m\u001b[36m \u001b[39m\u001b[32mIn[2]\u001b[39m\u001b[32m, line 22\u001b[39m\n\u001b[32m     13\u001b[39m ai_search = AzureAISearchTool(\n\u001b[32m     14\u001b[39m     index_connection_id=sc_connection_id,  \u001b[38;5;66;03m# Ensure the AZURE_AI_CONNECTION_ID environment variable is set\u001b[39;00m\n\u001b[32m     15\u001b[39m     index_name=\u001b[33m\"\u001b[39m\u001b[33minsurance-documents-index\u001b[39m\u001b[33m\"\u001b[39m,  \u001b[38;5;66;03m# Name of the search index\u001b[39;00m\n\u001b[32m   (...)\u001b[39m\u001b[32m     18\u001b[39m     \u001b[38;5;28mfilter\u001b[39m=\u001b[33m\"\u001b[39m\u001b[33m\"\u001b[39m,  \u001b[38;5;66;03m# Optional filter for search results\u001b[39;00m\n\u001b[32m     19\u001b[39m )\n\u001b[32m     21\u001b[39m \u001b[38;5;66;03m# Create an agent with the specified model, name, instructions, and tools\u001b[39;00m\n\u001b[32m---> \u001b[39m\u001b[32m22\u001b[39m agent = \u001b[43mproject_client\u001b[49m\u001b[43m.\u001b[49m\u001b[43magents\u001b[49m.create_agent(\n\u001b[32m     23\u001b[39m     model=model_deployment_name,  \u001b[38;5;66;03m# Model deployment name\u001b[39;00m\n\u001b[32m     24\u001b[39m     name=\u001b[33m\"\u001b[39m\u001b[33mpolicy-checker\u001b[39m\u001b[33m\"\u001b[39m,  \u001b[38;5;66;03m# Name of the agent\u001b[39;00m\n\u001b[32m     25\u001b[39m     instructions=\n\u001b[32m     26\u001b[39m \u001b[38;5;250m    \u001b[39m\u001b[33;03m\"\"\"\"\u001b[39;00m\n\u001b[32m     27\u001b[39m \u001b[33;03m    You are an expert Insurance Policy Checker Agent specialized in analyzing auto insurance policies and validating claim coverage. Your primary responsibilities include:\u001b[39;00m\n\u001b[32m     28\u001b[39m \n\u001b[32m     29\u001b[39m \u001b[33;03m    **Core Functions:**\u001b[39;00m\n\u001b[32m     30\u001b[39m \u001b[33;03m    - Analyze insurance policy documents to determine coverage details\u001b[39;00m\n\u001b[32m     31\u001b[39m \u001b[33;03m    - Validate if specific claims are covered under policy terms\u001b[39;00m\n\u001b[32m     32\u001b[39m \u001b[33;03m    - Explain policy limits, deductibles, and exclusions\u001b[39;00m\n\u001b[32m     33\u001b[39m \u001b[33;03m    - Identify coverage gaps or restrictions\u001b[39;00m\n\u001b[32m     34\u001b[39m \u001b[33;03m    - Provide clear explanations of policy benefits\u001b[39;00m\n\u001b[32m     35\u001b[39m \n\u001b[32m     36\u001b[39m \u001b[33;03m    **Policy Types You Handle:**\u001b[39;00m\n\u001b[32m     37\u001b[39m \u001b[33;03m    - Commercial Auto Policies\u001b[39;00m\n\u001b[32m     38\u001b[39m \u001b[33;03m    - Comprehensive Auto Policies  \u001b[39;00m\n\u001b[32m     39\u001b[39m \u001b[33;03m    - High Value Vehicle Policies\u001b[39;00m\n\u001b[32m     40\u001b[39m \u001b[33;03m    - Liability Only Policies\u001b[39;00m\n\u001b[32m     41\u001b[39m \u001b[33;03m    - Motorcycle Policies\u001b[39;00m\n\u001b[32m     42\u001b[39m \n\u001b[32m     43\u001b[39m \u001b[33;03m    **Analysis Guidelines:**\u001b[39;00m\n\u001b[32m     44\u001b[39m \u001b[33;03m    1. Always reference specific policy sections when providing coverage determinations\u001b[39;00m\n\u001b[32m     45\u001b[39m \u001b[33;03m    2. Clearly state coverage limits, deductibles, and any applicable restrictions\u001b[39;00m\n\u001b[32m     46\u001b[39m \u001b[33;03m    3. Identify any exclusions that may apply to the claim\u001b[39;00m\n\u001b[32m     47\u001b[39m \u001b[33;03m    4. Be precise about effective dates and policy periods\u001b[39;00m\n\u001b[32m     48\u001b[39m \u001b[33;03m    5. Flag any discrepancies between claim details and policy terms\u001b[39;00m\n\u001b[32m     49\u001b[39m \n\u001b[32m     50\u001b[39m \u001b[33;03m    **Response Format:**\u001b[39;00m\n\u001b[32m     51\u001b[39m \u001b[33;03m    - Start with a clear coverage determination (COVERED/NOT COVERED/PARTIAL COVERAGE)\u001b[39;00m\n\u001b[32m     52\u001b[39m \u001b[33;03m    - Provide the specific policy section reference\u001b[39;00m\n\u001b[32m     53\u001b[39m \u001b[33;03m    - Explain coverage limits and deductibles\u001b[39;00m\n\u001b[32m     54\u001b[39m \u001b[33;03m    - List any relevant exclusions or conditions\u001b[39;00m\n\u001b[32m     55\u001b[39m \u001b[33;03m    - Suggest next steps if coverage issues exist\u001b[39;00m\n\u001b[32m     56\u001b[39m \u001b[33;03m    - Everything in a clear, concise manner in one paragraph.\u001b[39;00m\n\u001b[32m     57\u001b[39m \n\u001b[32m     58\u001b[39m \u001b[33;03m    **Tone:** Professional, accurate, and helpful. Always be thorough in your analysis while remaining clear and concise.\u001b[39;00m\n\u001b[32m     59\u001b[39m \n\u001b[32m     60\u001b[39m \u001b[33;03m    When you cannot find specific information in the policy documents, clearly state what information is missing and what additional documentation would be needed.\u001b[39;00m\n\u001b[32m     61\u001b[39m \u001b[33;03m    \"\"\"\u001b[39;00m,  \u001b[38;5;66;03m# Instructions for the agent\u001b[39;00m\n\u001b[32m     62\u001b[39m     tools=ai_search.definitions,  \u001b[38;5;66;03m# Tools available to the agent\u001b[39;00m\n\u001b[32m     63\u001b[39m     tool_resources=ai_search.resources,  \u001b[38;5;66;03m# Resources for the tools\u001b[39;00m\n\u001b[32m     64\u001b[39m )\n\u001b[32m     65\u001b[39m \u001b[38;5;28mprint\u001b[39m(\u001b[33mf\u001b[39m\u001b[33m\"\u001b[39m\u001b[33mCreated agent, ID: \u001b[39m\u001b[38;5;132;01m{\u001b[39;00magent.id\u001b[38;5;132;01m}\u001b[39;00m\u001b[33m\"\u001b[39m)\n\u001b[32m     67\u001b[39m \u001b[38;5;66;03m# Create a thread for communication with the agent\u001b[39;00m\n",
      "\u001b[36mFile \u001b[39m\u001b[32m~/.local/lib/python3.11/site-packages/azure/ai/projects/_patch.py:108\u001b[39m, in \u001b[36mAIProjectClient.agents\u001b[39m\u001b[34m(self)\u001b[39m\n\u001b[32m    101\u001b[39m \u001b[38;5;250m\u001b[39m\u001b[33;03m\"\"\"Get the AgentsClient associated with this AIProjectClient.\u001b[39;00m\n\u001b[32m    102\u001b[39m \u001b[33;03mThe package azure.ai.agents must be installed to use this property.\u001b[39;00m\n\u001b[32m    103\u001b[39m \n\u001b[32m    104\u001b[39m \u001b[33;03m:return: The AgentsClient associated with this AIProjectClient.\u001b[39;00m\n\u001b[32m    105\u001b[39m \u001b[33;03m:rtype: azure.ai.agents.AgentsClient\u001b[39;00m\n\u001b[32m    106\u001b[39m \u001b[33;03m\"\"\"\u001b[39;00m\n\u001b[32m    107\u001b[39m \u001b[38;5;28;01mif\u001b[39;00m \u001b[38;5;28mself\u001b[39m._agents \u001b[38;5;129;01mis\u001b[39;00m \u001b[38;5;28;01mNone\u001b[39;00m:\n\u001b[32m--> \u001b[39m\u001b[32m108\u001b[39m     \u001b[38;5;28mself\u001b[39m._agents = \u001b[43mAgentsClient\u001b[49m\u001b[43m(\u001b[49m\n\u001b[32m    109\u001b[39m \u001b[43m        \u001b[49m\u001b[43mendpoint\u001b[49m\u001b[43m=\u001b[49m\u001b[38;5;28;43mself\u001b[39;49m\u001b[43m.\u001b[49m\u001b[43m_config\u001b[49m\u001b[43m.\u001b[49m\u001b[43mendpoint\u001b[49m\u001b[43m,\u001b[49m\n\u001b[32m    110\u001b[39m \u001b[43m        \u001b[49m\u001b[43mcredential\u001b[49m\u001b[43m=\u001b[49m\u001b[38;5;28;43mself\u001b[39;49m\u001b[43m.\u001b[49m\u001b[43m_config\u001b[49m\u001b[43m.\u001b[49m\u001b[43mcredential\u001b[49m\u001b[43m,\u001b[49m\n\u001b[32m    111\u001b[39m \u001b[43m        \u001b[49m\u001b[43muser_agent\u001b[49m\u001b[43m=\u001b[49m\u001b[38;5;28;43mself\u001b[39;49m\u001b[43m.\u001b[49m\u001b[43m_patched_user_agent\u001b[49m\u001b[43m,\u001b[49m\n\u001b[32m    112\u001b[39m \u001b[43m        \u001b[49m\u001b[43m*\u001b[49m\u001b[43m*\u001b[49m\u001b[38;5;28;43mself\u001b[39;49m\u001b[43m.\u001b[49m\u001b[43m_kwargs\u001b[49m\u001b[43m,\u001b[49m\n\u001b[32m    113\u001b[39m \u001b[43m    \u001b[49m\u001b[43m)\u001b[49m\n\u001b[32m    114\u001b[39m \u001b[38;5;28;01mreturn\u001b[39;00m \u001b[38;5;28mself\u001b[39m._agents\n",
      "\u001b[36mFile \u001b[39m\u001b[32m~/.local/lib/python3.11/site-packages/azure/ai/agents/_patch.py:58\u001b[39m, in \u001b[36mAgentsClient.__init__\u001b[39m\u001b[34m(self, endpoint, credential, **kwargs)\u001b[39m\n\u001b[32m     56\u001b[39m \u001b[38;5;28;01mdef\u001b[39;00m\u001b[38;5;250m \u001b[39m\u001b[34m__init__\u001b[39m(\u001b[38;5;28mself\u001b[39m, endpoint: \u001b[38;5;28mstr\u001b[39m, credential: TokenCredential, **kwargs: Any) -> \u001b[38;5;28;01mNone\u001b[39;00m:\n\u001b[32m     57\u001b[39m     \u001b[38;5;28;01mif\u001b[39;00m \u001b[38;5;129;01mnot\u001b[39;00m endpoint:\n\u001b[32m---> \u001b[39m\u001b[32m58\u001b[39m         \u001b[38;5;28;01mraise\u001b[39;00m \u001b[38;5;167;01mValueError\u001b[39;00m(\u001b[33m\"\u001b[39m\u001b[33mPlease provide the 1DP endpoint.\u001b[39m\u001b[33m\"\u001b[39m)\n\u001b[32m     59\u001b[39m     \u001b[38;5;66;03m# TODO: Remove this custom code when 1DP service will be available\u001b[39;00m\n\u001b[32m     60\u001b[39m     parts = endpoint.split(\u001b[33m\"\u001b[39m\u001b[33m;\u001b[39m\u001b[33m\"\u001b[39m)\n",
      "\u001b[31mValueError\u001b[39m: Please provide the 1DP endpoint."
     ]
    }
   ],
   "source": [
    "# Retrieve endpoint and model deployment name from environment variables\n",
    "project_endpoint = os.environ.get(\"AI_FOUNDRY_PROJECT_ENDPOINT\")  # Ensure the PROJECT_ENDPOINT environment variable is set\n",
    "model_deployment_name = os.environ.get(\"MODEL_DEPLOYMENT_NAME\")  # Ensure the MODEL_DEPLOYMENT_NAME environment variable is set\n",
    "sc_connection_id = os.environ.get(\"AZURE_AI_CONNECTION_ID\")  # Ensure the AZURE_AI_CONNECTION_ID environment variable is set\n",
    "\n",
    "project_client = AIProjectClient(\n",
    "    endpoint=project_endpoint,\n",
    "    credential=DefaultAzureCredential(exclude_interactive_browser_credential=False),  # Use Azure Default Credential for authentication\n",
    ")\n",
    "\n",
    "with project_client:\n",
    "    # Initialize the Azure AI Search tool with the required parameters\n",
    "    ai_search = AzureAISearchTool(\n",
    "        index_connection_id=sc_connection_id,  # Ensure the AZURE_AI_CONNECTION_ID environment variable is set\n",
    "        index_name=\"insurance-documents-index\",  # Name of the search index\n",
    "        query_type=AzureAISearchQueryType.SIMPLE,  # Query type (e.g., SIMPLE, FULL)\n",
    "        top_k=3,  # Number of top results to retrieve\n",
    "        filter=\"\",  # Optional filter for search results\n",
    "    )\n",
    "\n",
    "    # Create an agent with the specified model, name, instructions, and tools\n",
    "    agent = project_client.agents.create_agent(\n",
    "        model=model_deployment_name,  # Model deployment name\n",
    "        name=\"policy-checker\",  # Name of the agent\n",
    "        instructions=\n",
    "        \"\"\"\"\n",
    "        You are an expert Insurance Policy Checker Agent specialized in analyzing auto insurance policies and validating claim coverage. Your primary responsibilities include:\n",
    "\n",
    "        **Core Functions:**\n",
    "        - Analyze insurance policy documents to determine coverage details\n",
    "        - Validate if specific claims are covered under policy terms\n",
    "        - Explain policy limits, deductibles, and exclusions\n",
    "        - Identify coverage gaps or restrictions\n",
    "        - Provide clear explanations of policy benefits\n",
    "\n",
    "        **Policy Types You Handle:**\n",
    "        - Commercial Auto Policies\n",
    "        - Comprehensive Auto Policies  \n",
    "        - High Value Vehicle Policies\n",
    "        - Liability Only Policies\n",
    "        - Motorcycle Policies\n",
    "\n",
    "        **Analysis Guidelines:**\n",
    "        1. Always reference specific policy sections when providing coverage determinations\n",
    "        2. Clearly state coverage limits, deductibles, and any applicable restrictions\n",
    "        3. Identify any exclusions that may apply to the claim\n",
    "        4. Be precise about effective dates and policy periods\n",
    "        5. Flag any discrepancies between claim details and policy terms\n",
    "\n",
    "        **Response Format:**\n",
    "        - Start with a clear coverage determination (COVERED/NOT COVERED/PARTIAL COVERAGE)\n",
    "        - Provide the specific policy section reference\n",
    "        - Explain coverage limits and deductibles\n",
    "        - List any relevant exclusions or conditions\n",
    "        - Suggest next steps if coverage issues exist\n",
    "        - Everything in a clear, concise manner in one paragraph.\n",
    "\n",
    "        **Tone:** Professional, accurate, and helpful. Always be thorough in your analysis while remaining clear and concise.\n",
    "\n",
    "        When you cannot find specific information in the policy documents, clearly state what information is missing and what additional documentation would be needed.\n",
    "        \"\"\",  # Instructions for the agent\n",
    "        tools=ai_search.definitions,  # Tools available to the agent\n",
    "        tool_resources=ai_search.resources,  # Resources for the tools\n",
    "    )\n",
    "    print(f\"Created agent, ID: {agent.id}\")\n",
    "\n",
    "    # Create a thread for communication with the agent\n",
    "    thread = project_client.agents.threads.create()\n",
    "    print(f\"Created thread, ID: {thread.id}\")\n",
    "\n",
    "    # Send a message to the thread\n",
    "    message = project_client.agents.messages.create(\n",
    "        thread_id=thread.id,  # ID of the thread\n",
    "        role=MessageRole.USER,  # Role of the message sender (e.g., user)\n",
    "        content=\"What motorcycle coverage options are available?\",  # Message content\n",
    "    )\n",
    "    print(f\"Created message, ID: {message['id']}\")\n",
    "\n",
    "    # Create and process an agent run in the thread using the tools\n",
    "    run = project_client.agents.runs.create_and_process(thread_id=thread.id, agent_id=agent.id)\n",
    "    print(f\"Run finished with status: {run.status}\")\n",
    "\n",
    "    if run.status == \"failed\":\n",
    "        # Log the error if the run fails\n",
    "        print(f\"Run failed: {run.last_error}\")\n",
    "\n",
    "    # Fetch and log all messages from the thread\n",
    "    messages = project_client.agents.messages.list(thread_id=thread.id, order=ListSortOrder.ASCENDING)\n",
    "    for message in messages:\n",
    "        # Only show the agent's response, not the user's question\n",
    "        if message.role == MessageRole.AGENT:\n",
    "            if message.content and len(message.content) > 0:\n",
    "                content_item = message.content[0]\n",
    "                if content_item.get('type') == 'text' and 'text' in content_item:\n",
    "                    agent_response = content_item['text']['value']\n",
    "                    print(agent_response)\n",
    "                    break  # Only show the first agent response"
   ]
  },
  {
   "cell_type": "markdown",
   "metadata": {},
   "source": [
    "Amazing! So what you have done so far is creating an agent, that consults the Azure AI Search Index that searches on your policies databases. Your query has made it such as it replies to your query with a text based solution. Let's print it out!"
   ]
  }
 ],
 "metadata": {
  "kernelspec": {
   "display_name": "Python 3",
   "language": "python",
   "name": "python3"
  },
  "language_info": {
   "codemirror_mode": {
    "name": "ipython",
    "version": 3
   },
   "file_extension": ".py",
   "mimetype": "text/x-python",
   "name": "python",
   "nbconvert_exporter": "python",
   "pygments_lexer": "ipython3",
   "version": "3.11.13"
  }
 },
 "nbformat": 4,
 "nbformat_minor": 4
}
